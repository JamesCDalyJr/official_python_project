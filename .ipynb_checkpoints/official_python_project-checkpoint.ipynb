{
 "cells": [
  {
   "cell_type": "markdown",
   "id": "collective-cisco",
   "metadata": {},
   "source": [
    "## Basic Setup\n",
    "\n",
    "This is always Step 1 to creating an analytical Jupyter Notebook. Before we can start working with our data, we must first import the CSV in which it is stored."
   ]
  },
  {
   "cell_type": "code",
   "execution_count": 42,
   "id": "eligible-module",
   "metadata": {},
   "outputs": [],
   "source": [
    "import matplotlib.pyplot as plt\n",
    "import csv"
   ]
  },
  {
   "cell_type": "markdown",
   "id": "legendary-sixth",
   "metadata": {},
   "source": [
    "## Opening and Reading\n",
    "\n",
    "The next step is to translate and open the imported CSV file. To do so, we need to implement a with open statement (this is essentially a next-level open statement that allows for cleaner syntax and eliminates the need to manually close the imported file). Since this statement contains parentheses, that is where we will type the name of our file. Then, to ensure of the data's readability, we will also put a comma and type \"'r'\": the read command. Next, since we are analyzing data, we will make sure to open it as \"datafile\". Then right below is where we will state what we are opening (airPollutionDeathRate) and incorporate a DictReader which will allow us to display our data as dictionary content. Afterward, we will type a data list function underneath to actually access the data itself. Finally, we will create and append rows to display the newly generated data."
   ]
  },
  {
   "cell_type": "code",
   "execution_count": 43,
   "id": "associate-consumption",
   "metadata": {},
   "outputs": [],
   "source": [
    "with open('airPollutionDeathRate.csv', 'r') as datafile:\n",
    "    airPollutionDeathRate = csv.DictReader(datafile)\n",
    "    data_list = []\n",
    "    \n",
    "    for row in airPollutionDeathRate:\n",
    "        data_list.append(row)"
   ]
  },
  {
   "cell_type": "code",
   "execution_count": 44,
   "id": "ongoing-windows",
   "metadata": {},
   "outputs": [
    {
     "data": {
      "text/plain": [
       "{'ï»¿Location': 'Afghanistan',\n",
       " 'Dim2': 'Total',\n",
       " 'Indicator': 'Ambient and household air pollution attributable death rate (per 100 000 population)',\n",
       " 'Period': '2016',\n",
       " 'Dim1': 'Both sexes',\n",
       " 'First Tooltip': '95.12 [85.12-104.3]'}"
      ]
     },
     "execution_count": 44,
     "metadata": {},
     "output_type": "execute_result"
    }
   ],
   "source": [
    "data_list[0]"
   ]
  },
  {
   "cell_type": "markdown",
   "id": "developing-baseball",
   "metadata": {},
   "source": [
    "## Data Formatting\n",
    "\n",
    "This is the fun part where we get to finally use Python to graphically depict significant aspects of our data. In this case, we are wanting to visually compare America's air pollution death rate by gender (obviously a bar graph would be best for this). So what we need to do is type us_data = {} which filters out other countries. Then, we need to "
   ]
  },
  {
   "cell_type": "code",
   "execution_count": 45,
   "id": "fuzzy-mining",
   "metadata": {},
   "outputs": [
    {
     "data": {
      "text/plain": [
       "{'Both sexes': {'Both sexes': []},\n",
       " 'Male': {'Male': []},\n",
       " 'Female': {'Female': []}}"
      ]
     },
     "execution_count": 45,
     "metadata": {},
     "output_type": "execute_result"
    }
   ],
   "source": [
    "us_data = {} \n",
    "for items in data_list: \n",
    "    if items['ï»¿Location'] == 'United States of America':\n",
    "        if not us_data.get(items['Dim1']): \n",
    "            us_data[ items['Dim1'] ] = {} \n",
    "            if not us_data[ items['Dim1'] ].get(items['Dim1']): \n",
    "                us_data[ items['Dim1'] ][ items['Dim1'] ] = []\n",
    "            gender = items['Dim1']\n",
    "us_data"
   ]
  },
  {
   "cell_type": "code",
   "execution_count": null,
   "id": "immune-alabama",
   "metadata": {},
   "outputs": [],
   "source": []
  }
 ],
 "metadata": {
  "kernelspec": {
   "display_name": "official_python_project",
   "language": "python",
   "name": "official_python_project"
  },
  "language_info": {
   "codemirror_mode": {
    "name": "ipython",
    "version": 3
   },
   "file_extension": ".py",
   "mimetype": "text/x-python",
   "name": "python",
   "nbconvert_exporter": "python",
   "pygments_lexer": "ipython3",
   "version": "3.9.1"
  }
 },
 "nbformat": 4,
 "nbformat_minor": 5
}
